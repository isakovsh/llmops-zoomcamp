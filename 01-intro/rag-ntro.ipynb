{
 "cells": [
  {
   "cell_type": "code",
   "execution_count": 1,
   "id": "ea047c85-d56f-4fcf-a764-772f7e155b82",
   "metadata": {
    "scrolled": true
   },
   "outputs": [
    {
     "name": "stdout",
     "output_type": "stream",
     "text": [
      "--2024-06-20 17:08:15--  https://raw.githubusercontent.com/alexeygrigorev/minsearch/main/minsearch.py\n",
      "Resolving raw.githubusercontent.com (raw.githubusercontent.com)... 185.199.110.133, 185.199.111.133, 185.199.108.133, ...\n",
      "Connecting to raw.githubusercontent.com (raw.githubusercontent.com)|185.199.110.133|:443... connected.\n",
      "HTTP request sent, awaiting response... 200 OK\n",
      "Length: 3832 (3.7K) [text/plain]\n",
      "Saving to: ‘minsearch.py.1’\n",
      "\n",
      "minsearch.py.1      100%[===================>]   3.74K  --.-KB/s    in 0s      \n",
      "\n",
      "2024-06-20 17:08:16 (31.3 MB/s) - ‘minsearch.py.1’ saved [3832/3832]\n",
      "\n"
     ]
    }
   ],
   "source": [
    "# !wget https://raw.githubusercontent.com/alexeygrigorev/minsearch/main/minsearch.py"
   ]
  },
  {
   "cell_type": "code",
   "execution_count": 15,
   "id": "85f9d909-772b-404f-9bef-211ba0c0d704",
   "metadata": {
    "tags": []
   },
   "outputs": [],
   "source": [
    "import os\n",
    "import openai \n",
    "import minsearch \n",
    "import json\n",
    "from openai import OpenAI\n",
    "from dotenv import load_dotenv\n",
    "\n",
    "load_dotenv()\n",
    "openai.api_key = os.getenv(\"OPENAI_API_KEY\")"
   ]
  },
  {
   "cell_type": "code",
   "execution_count": 2,
   "id": "fda2b39c-1652-409d-91f2-ffe835fc08fd",
   "metadata": {
    "tags": []
   },
   "outputs": [],
   "source": [
    "with open(\"documents.json\") as f:\n",
    "    file = json.load(f)"
   ]
  },
  {
   "cell_type": "code",
   "execution_count": 3,
   "id": "4fa74966-c899-4201-aa70-47554ad39f03",
   "metadata": {
    "tags": []
   },
   "outputs": [],
   "source": [
    "documents =[]\n",
    "\n",
    "for course_dict in file:\n",
    "    for doc in course_dict['documents']:\n",
    "        doc['course'] = course_dict['course']\n",
    "        documents.append(doc)"
   ]
  },
  {
   "cell_type": "code",
   "execution_count": 4,
   "id": "4600a357-07d1-480a-a2ff-13f8512392ad",
   "metadata": {
    "tags": []
   },
   "outputs": [
    {
     "data": {
      "text/plain": [
       "{'text': \"The purpose of this document is to capture frequently asked technical questions\\nThe exact day and hour of the course will be 15th Jan 2024 at 17h00. The course will start with the first  “Office Hours'' live.1\\nSubscribe to course public Google Calendar (it works from Desktop only).\\nRegister before the course starts using this link.\\nJoin the course Telegram channel with announcements.\\nDon’t forget to register in DataTalks.Club's Slack and join the channel.\",\n",
       " 'section': 'General course-related questions',\n",
       " 'question': 'Course - When will the course start?',\n",
       " 'course': 'data-engineering-zoomcamp'}"
      ]
     },
     "execution_count": 4,
     "metadata": {},
     "output_type": "execute_result"
    }
   ],
   "source": [
    "documents[0]"
   ]
  },
  {
   "cell_type": "code",
   "execution_count": 5,
   "id": "4168a42f-d1ee-4a4b-86ec-ef5b935b869d",
   "metadata": {
    "tags": []
   },
   "outputs": [],
   "source": [
    "index = minsearch.Index(\n",
    "    text_fields=['question','text','section'],\n",
    "    keyword_fields=['course']\n",
    "    )"
   ]
  },
  {
   "cell_type": "code",
   "execution_count": 6,
   "id": "e19106ae-11a4-4f99-84a3-801b40db6e42",
   "metadata": {
    "tags": []
   },
   "outputs": [
    {
     "data": {
      "text/plain": [
       "<minsearch.Index at 0x1cc1eca46d0>"
      ]
     },
     "execution_count": 6,
     "metadata": {},
     "output_type": "execute_result"
    }
   ],
   "source": [
    "index.fit(documents)"
   ]
  },
  {
   "cell_type": "code",
   "execution_count": 7,
   "id": "30f6649c-315b-4d6d-bac9-ed6f7bee61dd",
   "metadata": {
    "tags": []
   },
   "outputs": [],
   "source": [
    "q = \"this course alreaydy started.Can  still enroll it ?\""
   ]
  },
  {
   "cell_type": "code",
   "execution_count": 28,
   "id": "5c1c3c5c-6b9e-499b-a5b4-ffe57195b9cd",
   "metadata": {
    "tags": []
   },
   "outputs": [],
   "source": [
    "results = index.search(query=q,num_results=10,filter_dict={'course':'data-engineering-zoomcamp'})"
   ]
  },
  {
   "cell_type": "code",
   "execution_count": 16,
   "id": "52eca466-9acd-451b-955c-23b2a6ac58ff",
   "metadata": {
    "tags": []
   },
   "outputs": [],
   "source": [
    "client = OpenAI()"
   ]
  },
  {
   "cell_type": "code",
   "execution_count": 20,
   "id": "37a064eb-e89a-46d5-b41f-c7a479846237",
   "metadata": {
    "tags": []
   },
   "outputs": [],
   "source": [
    "response = client.chat.completions.create(\n",
    "        model = \"gpt-4o\",\n",
    "        messages = [{'role':'user','content':q}]\n",
    ")"
   ]
  },
  {
   "cell_type": "code",
   "execution_count": 24,
   "id": "5a433bf0-888d-455b-b7ca-03fdced6d4da",
   "metadata": {
    "tags": []
   },
   "outputs": [
    {
     "name": "stdout",
     "output_type": "stream",
     "text": [
      "It's possible that you can still enroll in a course that has already started, but it depends on several factors. Here are steps you can take to find out:\n",
      "\n",
      "1. **Check the Course Details**: Look for information on the course's webpage or the academic institution's website. Some courses allow late enrollment within a certain period after the start date.\n",
      "\n",
      "2. **Contact the Instructor or Course Coordinator**: Reach out to the person teaching or managing the course. They can give you a definitive answer and may also provide additional instructions for catching up on missed material.\n",
      "\n",
      "3. **Check Enrollment Policies**: Some institutions have specific policies regarding late enrollments. Review these policies which are usually available on the institution's academic affairs or registrar's office website.\n",
      "\n",
      "4. **Consider Online Platforms**: If the course is offered through an online learning platform, check their support or help section for guidelines on late enrollments.\n",
      "\n",
      "5. **Registration Office**: If you are at a university or college, contact the registration office for advice. They can provide information on deadlines and any additional requirements for late enrollment.\n",
      "\n",
      "6. **Catch-Up Plan**: If you are allowed to enroll late, ask if there's a recommended way to catch up on missed lectures, assignments, or readings.\n",
      "\n",
      "Remember, enrolling late may require additional effort to catch up on missed content, so make sure you are prepared for that commitment.\n"
     ]
    }
   ],
   "source": [
    "print(response.choices[0].message.content)"
   ]
  },
  {
   "cell_type": "code",
   "execution_count": 34,
   "id": "7b0fc6ca-378b-48c1-ab49-f7aa62087b97",
   "metadata": {
    "tags": []
   },
   "outputs": [],
   "source": [
    "prompt_template = \"\"\"\n",
    "You are course a teaching assistant. Answer the QUESTION based on CONTEXT from FAQ database.\n",
    "Use only facts from the context when answering the question.\n",
    "If CONTEXT doesn't contain the answer output is none\n",
    "QUESTION: {question}\n",
    "\n",
    "CONTEXT:\n",
    "{context}\n",
    "\"\"\".strip()"
   ]
  },
  {
   "cell_type": "code",
   "execution_count": 31,
   "id": "56082a19-8f7e-41f9-899e-f3e53089fe56",
   "metadata": {
    "tags": []
   },
   "outputs": [],
   "source": [
    "context = \"\"\n",
    "\n",
    "for doc in results:\n",
    "    context = context + f\"section: {doc['section']}\\nquestion: {doc['question']}\\nanswer: {doc['text']}\\n\\n\""
   ]
  },
  {
   "cell_type": "code",
   "execution_count": 35,
   "id": "8725a1e0-3c6b-48b1-b957-02fa154fd434",
   "metadata": {
    "tags": []
   },
   "outputs": [],
   "source": [
    "prompt = prompt_template.format(question=q,context=context).strip()"
   ]
  },
  {
   "cell_type": "code",
   "execution_count": 40,
   "id": "e59c562d-4af8-40ca-9196-731bfd979719",
   "metadata": {
    "tags": []
   },
   "outputs": [
    {
     "name": "stdout",
     "output_type": "stream",
     "text": [
      "Yes, even if you don't register, you're still eligible to submit the homeworks. Be aware, however, that there will be deadlines for turning in the final projects. So don't leave everything for the last minute.\n"
     ]
    }
   ],
   "source": [
    "response = client.chat.completions.create(\n",
    "        model = \"gpt-4o\",\n",
    "        messages = [{'role':'user','content':prompt}]\n",
    ")\n",
    "print(response.choices[0].message.content)"
   ]
  },
  {
   "cell_type": "code",
   "execution_count": null,
   "id": "23602f7a-7f90-4923-b85e-7c595ee8b1d7",
   "metadata": {},
   "outputs": [],
   "source": []
  }
 ],
 "metadata": {
  "kernelspec": {
   "display_name": "Python 3 (ipykernel)",
   "language": "python",
   "name": "python3"
  },
  "language_info": {
   "codemirror_mode": {
    "name": "ipython",
    "version": 3
   },
   "file_extension": ".py",
   "mimetype": "text/x-python",
   "name": "python",
   "nbconvert_exporter": "python",
   "pygments_lexer": "ipython3",
   "version": "3.11.5"
  }
 },
 "nbformat": 4,
 "nbformat_minor": 5
}
